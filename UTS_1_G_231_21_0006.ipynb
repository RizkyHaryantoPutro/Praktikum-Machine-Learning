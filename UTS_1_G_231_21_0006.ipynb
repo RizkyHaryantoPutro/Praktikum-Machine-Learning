{
  "nbformat": 4,
  "nbformat_minor": 0,
  "metadata": {
    "colab": {
      "provenance": [],
      "authorship_tag": "ABX9TyMa3iPjEaqZkeUZ5p/bGwLw",
      "include_colab_link": true
    },
    "kernelspec": {
      "name": "python3",
      "display_name": "Python 3"
    },
    "language_info": {
      "name": "python"
    }
  },
  "cells": [
    {
      "cell_type": "markdown",
      "metadata": {
        "id": "view-in-github",
        "colab_type": "text"
      },
      "source": [
        "<a href=\"https://colab.research.google.com/github/RizkyHaryantoPutro/Praktikum-Machine-Learning/blob/main/UTS_1_G_231_21_0006.ipynb\" target=\"_parent\"><img src=\"https://colab.research.google.com/assets/colab-badge.svg\" alt=\"Open In Colab\"/></a>"
      ]
    },
    {
      "cell_type": "code",
      "source": [
        "# importing modules and packages\n",
        "import pandas as pd\n",
        "import numpy as np\n",
        "import matplotlib.pyplot as plt\n",
        "import seaborn as sns\n",
        "from sklearn.model_selection import train_test_split\n",
        "from sklearn.linear_model import LinearRegression\n",
        "from sklearn.metrics import mean_squared_error, mean_absolute_error\n",
        "from sklearn import preprocessing\n",
        "\n",
        "from google.colab import files\n",
        "uploaded = files.upload()\n",
        ""
      ],
      "metadata": {
        "colab": {
          "base_uri": "https://localhost:8080/",
          "height": 73
        },
        "id": "W9FYbluVPHt5",
        "outputId": "36ea6588-4379-406b-847a-6f48aeac787e"
      },
      "execution_count": 2,
      "outputs": [
        {
          "output_type": "display_data",
          "data": {
            "text/plain": [
              "<IPython.core.display.HTML object>"
            ],
            "text/html": [
              "\n",
              "     <input type=\"file\" id=\"files-7d9336da-83e8-4212-9050-b93312912ee5\" name=\"files[]\" multiple disabled\n",
              "        style=\"border:none\" />\n",
              "     <output id=\"result-7d9336da-83e8-4212-9050-b93312912ee5\">\n",
              "      Upload widget is only available when the cell has been executed in the\n",
              "      current browser session. Please rerun this cell to enable.\n",
              "      </output>\n",
              "      <script>// Copyright 2017 Google LLC\n",
              "//\n",
              "// Licensed under the Apache License, Version 2.0 (the \"License\");\n",
              "// you may not use this file except in compliance with the License.\n",
              "// You may obtain a copy of the License at\n",
              "//\n",
              "//      http://www.apache.org/licenses/LICENSE-2.0\n",
              "//\n",
              "// Unless required by applicable law or agreed to in writing, software\n",
              "// distributed under the License is distributed on an \"AS IS\" BASIS,\n",
              "// WITHOUT WARRANTIES OR CONDITIONS OF ANY KIND, either express or implied.\n",
              "// See the License for the specific language governing permissions and\n",
              "// limitations under the License.\n",
              "\n",
              "/**\n",
              " * @fileoverview Helpers for google.colab Python module.\n",
              " */\n",
              "(function(scope) {\n",
              "function span(text, styleAttributes = {}) {\n",
              "  const element = document.createElement('span');\n",
              "  element.textContent = text;\n",
              "  for (const key of Object.keys(styleAttributes)) {\n",
              "    element.style[key] = styleAttributes[key];\n",
              "  }\n",
              "  return element;\n",
              "}\n",
              "\n",
              "// Max number of bytes which will be uploaded at a time.\n",
              "const MAX_PAYLOAD_SIZE = 100 * 1024;\n",
              "\n",
              "function _uploadFiles(inputId, outputId) {\n",
              "  const steps = uploadFilesStep(inputId, outputId);\n",
              "  const outputElement = document.getElementById(outputId);\n",
              "  // Cache steps on the outputElement to make it available for the next call\n",
              "  // to uploadFilesContinue from Python.\n",
              "  outputElement.steps = steps;\n",
              "\n",
              "  return _uploadFilesContinue(outputId);\n",
              "}\n",
              "\n",
              "// This is roughly an async generator (not supported in the browser yet),\n",
              "// where there are multiple asynchronous steps and the Python side is going\n",
              "// to poll for completion of each step.\n",
              "// This uses a Promise to block the python side on completion of each step,\n",
              "// then passes the result of the previous step as the input to the next step.\n",
              "function _uploadFilesContinue(outputId) {\n",
              "  const outputElement = document.getElementById(outputId);\n",
              "  const steps = outputElement.steps;\n",
              "\n",
              "  const next = steps.next(outputElement.lastPromiseValue);\n",
              "  return Promise.resolve(next.value.promise).then((value) => {\n",
              "    // Cache the last promise value to make it available to the next\n",
              "    // step of the generator.\n",
              "    outputElement.lastPromiseValue = value;\n",
              "    return next.value.response;\n",
              "  });\n",
              "}\n",
              "\n",
              "/**\n",
              " * Generator function which is called between each async step of the upload\n",
              " * process.\n",
              " * @param {string} inputId Element ID of the input file picker element.\n",
              " * @param {string} outputId Element ID of the output display.\n",
              " * @return {!Iterable<!Object>} Iterable of next steps.\n",
              " */\n",
              "function* uploadFilesStep(inputId, outputId) {\n",
              "  const inputElement = document.getElementById(inputId);\n",
              "  inputElement.disabled = false;\n",
              "\n",
              "  const outputElement = document.getElementById(outputId);\n",
              "  outputElement.innerHTML = '';\n",
              "\n",
              "  const pickedPromise = new Promise((resolve) => {\n",
              "    inputElement.addEventListener('change', (e) => {\n",
              "      resolve(e.target.files);\n",
              "    });\n",
              "  });\n",
              "\n",
              "  const cancel = document.createElement('button');\n",
              "  inputElement.parentElement.appendChild(cancel);\n",
              "  cancel.textContent = 'Cancel upload';\n",
              "  const cancelPromise = new Promise((resolve) => {\n",
              "    cancel.onclick = () => {\n",
              "      resolve(null);\n",
              "    };\n",
              "  });\n",
              "\n",
              "  // Wait for the user to pick the files.\n",
              "  const files = yield {\n",
              "    promise: Promise.race([pickedPromise, cancelPromise]),\n",
              "    response: {\n",
              "      action: 'starting',\n",
              "    }\n",
              "  };\n",
              "\n",
              "  cancel.remove();\n",
              "\n",
              "  // Disable the input element since further picks are not allowed.\n",
              "  inputElement.disabled = true;\n",
              "\n",
              "  if (!files) {\n",
              "    return {\n",
              "      response: {\n",
              "        action: 'complete',\n",
              "      }\n",
              "    };\n",
              "  }\n",
              "\n",
              "  for (const file of files) {\n",
              "    const li = document.createElement('li');\n",
              "    li.append(span(file.name, {fontWeight: 'bold'}));\n",
              "    li.append(span(\n",
              "        `(${file.type || 'n/a'}) - ${file.size} bytes, ` +\n",
              "        `last modified: ${\n",
              "            file.lastModifiedDate ? file.lastModifiedDate.toLocaleDateString() :\n",
              "                                    'n/a'} - `));\n",
              "    const percent = span('0% done');\n",
              "    li.appendChild(percent);\n",
              "\n",
              "    outputElement.appendChild(li);\n",
              "\n",
              "    const fileDataPromise = new Promise((resolve) => {\n",
              "      const reader = new FileReader();\n",
              "      reader.onload = (e) => {\n",
              "        resolve(e.target.result);\n",
              "      };\n",
              "      reader.readAsArrayBuffer(file);\n",
              "    });\n",
              "    // Wait for the data to be ready.\n",
              "    let fileData = yield {\n",
              "      promise: fileDataPromise,\n",
              "      response: {\n",
              "        action: 'continue',\n",
              "      }\n",
              "    };\n",
              "\n",
              "    // Use a chunked sending to avoid message size limits. See b/62115660.\n",
              "    let position = 0;\n",
              "    do {\n",
              "      const length = Math.min(fileData.byteLength - position, MAX_PAYLOAD_SIZE);\n",
              "      const chunk = new Uint8Array(fileData, position, length);\n",
              "      position += length;\n",
              "\n",
              "      const base64 = btoa(String.fromCharCode.apply(null, chunk));\n",
              "      yield {\n",
              "        response: {\n",
              "          action: 'append',\n",
              "          file: file.name,\n",
              "          data: base64,\n",
              "        },\n",
              "      };\n",
              "\n",
              "      let percentDone = fileData.byteLength === 0 ?\n",
              "          100 :\n",
              "          Math.round((position / fileData.byteLength) * 100);\n",
              "      percent.textContent = `${percentDone}% done`;\n",
              "\n",
              "    } while (position < fileData.byteLength);\n",
              "  }\n",
              "\n",
              "  // All done.\n",
              "  yield {\n",
              "    response: {\n",
              "      action: 'complete',\n",
              "    }\n",
              "  };\n",
              "}\n",
              "\n",
              "scope.google = scope.google || {};\n",
              "scope.google.colab = scope.google.colab || {};\n",
              "scope.google.colab._files = {\n",
              "  _uploadFiles,\n",
              "  _uploadFilesContinue,\n",
              "};\n",
              "})(self);\n",
              "</script> "
            ]
          },
          "metadata": {}
        },
        {
          "output_type": "stream",
          "name": "stdout",
          "text": [
            "Saving CADdataset.csv to CADdataset.csv\n"
          ]
        }
      ]
    },
    {
      "cell_type": "code",
      "source": [
        "# importing data\n",
        "df = pd.read_csv('CADdataset.csv')\n",
        "\n",
        "print(df.head())\n",
        "print(df.columns)"
      ],
      "metadata": {
        "colab": {
          "base_uri": "https://localhost:8080/"
        },
        "id": "8BMrpUXVPdJ-",
        "outputId": "2b4f593d-9923-4bcd-fba8-e3a9d6a3d7dc"
      },
      "execution_count": 26,
      "outputs": [
        {
          "output_type": "stream",
          "name": "stdout",
          "text": [
            "  Age Weight Height    Sex          BMI DM HTN Current Smoker Obesity DLP  \\\n",
            "0  53     90    175   Male   29.3877551  0   1              1       Y   Y   \n",
            "1  67     70    157  Fmale    28.398718  0   1              0       Y   N   \n",
            "2  54     54    164   Male  20.07733492  0   0              1       N   N   \n",
            "3  66     67    158  Fmale  26.83864765  0   1              0       Y   N   \n",
            "4  50     87    153  Fmale  37.16519287  0   1              0       Y   N   \n",
            "\n",
            "   ... LVH PRP    FBS   ESR    EF  RWMA EX-Smoker   CR   BUN     CAD  \n",
            "0  ...   N   N   90.0   7.0  50.0   0.0       0.0  0.7   8.0     Cad  \n",
            "1  ...   N   N   80.0  26.0  40.0   4.0       0.0  1.0  30.0     Cad  \n",
            "2  ...   N   N   85.0  10.0  40.0   2.0       0.0  1.0  17.0     Cad  \n",
            "3  ...   N   N   78.0  76.0  55.0   0.0       0.0  1.2  30.0  Normal  \n",
            "4  ...   N   N  104.0  27.0  50.0   0.0       0.0  1.0  16.0  Normal  \n",
            "\n",
            "[5 rows x 27 columns]\n",
            "Index(['Age', 'Weight', 'Height', 'Sex', 'BMI', 'DM', 'HTN', 'Current Smoker',\n",
            "       'Obesity', 'DLP', 'BP', 'WPE', 'Typical Chest Pain', 'Atypical',\n",
            "       'Nonanginal', 'St Depression', 'Tinversion', 'LVH', 'PRP', 'FBS', 'ESR',\n",
            "       'EF', ' RWMA', 'EX-Smoker', 'CR', 'BUN', 'CAD'],\n",
            "      dtype='object')\n"
          ]
        }
      ]
    },
    {
      "cell_type": "code",
      "source": [
        "# plotting a scatterplot\n",
        "sns.scatterplot(x='Sex',\n",
        "                y='FBS', data=df)"
      ],
      "metadata": {
        "colab": {
          "base_uri": "https://localhost:8080/",
          "height": 467
        },
        "id": "wAwhlbGJPzDA",
        "outputId": "ff0e486e-e9b5-43fb-e3b8-c0172e177053"
      },
      "execution_count": 30,
      "outputs": [
        {
          "output_type": "execute_result",
          "data": {
            "text/plain": [
              "<Axes: xlabel='Sex', ylabel='FBS'>"
            ]
          },
          "metadata": {},
          "execution_count": 30
        },
        {
          "output_type": "display_data",
          "data": {
            "text/plain": [
              "<Figure size 640x480 with 1 Axes>"
            ],
            "image/png": "[encoded data removed]"
          },
          "metadata": {}
        }
      ]
    },
    {
      "cell_type": "code",
      "source": [
        "# creating feature variabels\n",
        "X = df.drop('BUN',axis=1)\n",
        "y = df['CAD']\n",
        "print(X)\n",
        "print(y)"
      ],
      "metadata": {
        "colab": {
          "base_uri": "https://localhost:8080/"
        },
        "id": "uDpanr4EUICV",
        "outputId": "ebc50600-c695-46a3-8e69-7add9e125fae"
      },
      "execution_count": 20,
      "outputs": [
        {
          "output_type": "stream",
          "name": "stdout",
          "text": [
            "     Age  Weight  Height    Sex          BMI  DM      HTN Current Smoker  \\\n",
            "0     53      90     175   Male   29.3877551   0        1              1   \n",
            "1     67      70     157  Fmale    28.398718   0        1              0   \n",
            "2     54      54     164   Male  20.07733492   0        0              1   \n",
            "3     66      67     158  Fmale  26.83864765   0        1              0   \n",
            "4     50      87     153  Fmale  37.16519287   0        1              0   \n",
            "..   ...     ...     ...    ...          ...  ..      ...            ...   \n",
            "299   55      64     152  Fmale  27.70083102   0        0              0   \n",
            "300   48      77     160  Fmale    30.078125   0        1              0   \n",
            "301   57      90     159  Fmale   35.5998576   1        0              0   \n",
            "302   56      85     170  Fmale  29.41176471   0        1              1   \n",
            "303  Age  Weight  Length    Sex          BMI  DM  Insulin   Beta blocker   \n",
            "\n",
            "    Obesity     DLP  ... Tinversion LVH  PRP    FBS   ESR    EF  RWMA  \\\n",
            "0         Y       Y  ...          1   N    N   90.0   7.0  50.0   0.0   \n",
            "1         Y       N  ...          1   N    N   80.0  26.0  40.0   4.0   \n",
            "2         N       N  ...          0   N    N   85.0  10.0  40.0   2.0   \n",
            "3         Y       N  ...          0   N    N   78.0  76.0  55.0   0.0   \n",
            "4         Y       N  ...          0   N    N  104.0  27.0  50.0   0.0   \n",
            "..      ...     ...  ...        ...  ..  ...    ...   ...   ...   ...   \n",
            "299       Y       N  ...          0   N    N   86.0   3.0  40.0   0.0   \n",
            "300       Y       N  ...          0   N    N   83.0  20.0  55.0   0.0   \n",
            "301       Y       N  ...          0   N    N   96.0  31.0  55.0   0.0   \n",
            "302       Y       N  ...          1   N    N   78.0  13.0  55.0   0.0   \n",
            "303  Statin  Nitrat  ...  EX-Smoker  FH  NaN    NaN   NaN   NaN   NaN   \n",
            "\n",
            "    EX-Smoker   CR     CAD  \n",
            "0         0.0  0.7     Cad  \n",
            "1         0.0  1.0     Cad  \n",
            "2         0.0  1.0     Cad  \n",
            "3         0.0  1.2  Normal  \n",
            "4         0.0  1.0  Normal  \n",
            "..        ...  ...     ...  \n",
            "299       0.0  0.9  Normal  \n",
            "300       0.0  1.0  Normal  \n",
            "301       0.0  1.0  Normal  \n",
            "302       0.0  0.7     Cad  \n",
            "303       NaN  NaN     NaN  \n",
            "\n",
            "[304 rows x 26 columns]\n",
            "0         Cad\n",
            "1         Cad\n",
            "2         Cad\n",
            "3      Normal\n",
            "4      Normal\n",
            "        ...  \n",
            "299    Normal\n",
            "300    Normal\n",
            "301    Normal\n",
            "302       Cad\n",
            "303       NaN\n",
            "Name: CAD, Length: 304, dtype: object\n"
          ]
        }
      ]
    },
    {
      "cell_type": "code",
      "source": [
        "import pandas as pd\n",
        "import pylab as pl\n",
        "import numpy as np\n",
        "import scipy.optimize as opt\n",
        "import statsmodels.api as sm\n",
        "from sklearn import preprocessing\n",
        "\n",
        "import matplotlib.pyplot as plt\n",
        "import matplotlib.mlab as mlab\n",
        "import seaborn as sn\n"
      ],
      "metadata": {
        "id": "4m5iG3gzWE78"
      },
      "execution_count": 35,
      "outputs": []
    },
    {
      "cell_type": "code",
      "source": [
        "# dataset\n",
        "disease_df = pd.read_csv(\"CADdataset.csv\")\n",
        "disease_df.rename(columns ={'male':'Sex_male'}, inplace = True)\n",
        "\n",
        "# removing NaN / NULL values\n",
        "disease_df.dropna(axis = 0, inplace = True)\n",
        "print(disease_df.head(), disease_df.shape)\n",
        "print(disease_df.CAD.value_counts())"
      ],
      "metadata": {
        "colab": {
          "base_uri": "https://localhost:8080/"
        },
        "id": "Y8U3oMHOVpoS",
        "outputId": "a77d42fc-e586-4c3c-e34d-0ce9d8799e06"
      },
      "execution_count": 33,
      "outputs": [
        {
          "output_type": "stream",
          "name": "stdout",
          "text": [
            "  Age Weight Height    Sex          BMI DM HTN Current Smoker Obesity DLP  \\\n",
            "0  53     90    175   Male   29.3877551  0   1              1       Y   Y   \n",
            "1  67     70    157  Fmale    28.398718  0   1              0       Y   N   \n",
            "2  54     54    164   Male  20.07733492  0   0              1       N   N   \n",
            "3  66     67    158  Fmale  26.83864765  0   1              0       Y   N   \n",
            "4  50     87    153  Fmale  37.16519287  0   1              0       Y   N   \n",
            "\n",
            "   ... LVH PRP    FBS   ESR    EF  RWMA EX-Smoker   CR   BUN     CAD  \n",
            "0  ...   N   N   90.0   7.0  50.0   0.0       0.0  0.7   8.0     Cad  \n",
            "1  ...   N   N   80.0  26.0  40.0   4.0       0.0  1.0  30.0     Cad  \n",
            "2  ...   N   N   85.0  10.0  40.0   2.0       0.0  1.0  17.0     Cad  \n",
            "3  ...   N   N   78.0  76.0  55.0   0.0       0.0  1.2  30.0  Normal  \n",
            "4  ...   N   N  104.0  27.0  50.0   0.0       0.0  1.0  16.0  Normal  \n",
            "\n",
            "[5 rows x 27 columns] (303, 27)\n",
            "Cad       216\n",
            "Normal     87\n",
            "Name: CAD, dtype: int64\n"
          ]
        }
      ]
    },
    {
      "cell_type": "code",
      "source": [
        "# conting no. of patiens affected with CHD\n",
        "plt.figure(figsize=(7, 5))\n",
        "sn.countplot(x='CAD', data=disease_df,\n",
        "             palette=\"BuGn_r\")\n",
        "plt.show()\n",
        "\n"
      ],
      "metadata": {
        "colab": {
          "base_uri": "https://localhost:8080/",
          "height": 465
        },
        "id": "uNfxB9xeV9hZ",
        "outputId": "b7e55d86-6813-4a9e-e61d-c6b26df2b8e8"
      },
      "execution_count": 39,
      "outputs": [
        {
          "output_type": "display_data",
          "data": {
            "text/plain": [
              "<Figure size 700x500 with 1 Axes>"
            ],
            "image/png": "[encoded data removed]"
          },
          "metadata": {}
        }
      ]
    }
  ]
}